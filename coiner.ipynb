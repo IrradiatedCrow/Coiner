{
 "cells": [
  {
   "cell_type": "code",
   "execution_count": 30,
   "metadata": {},
   "outputs": [
    {
     "name": "stdout",
     "output_type": "stream",
     "text": [
      "You chose Tails.\n",
      "Flipping...\n",
      "It landed on Tails!\n",
      "You Win!\n"
     ]
    }
   ],
   "source": [
    "import random\n",
    "import time\n",
    "# Input\n",
    "\n",
    "p1 = 0\n",
    "inp = 0\n",
    "torh = 0\n",
    "x = 12\n",
    "\n",
    "while p1 == 0:\n",
    "    inp = input('Heads or Tails? (Lowercase)')\n",
    "    if inp == \"heads\": \n",
    "        print('You chose Heads.')\n",
    "        p1 = 1\n",
    "    elif inp == \"tails\":\n",
    "        print('You chose Tails.')\n",
    "        p1 = 2\n",
    "\n",
    "time.sleep(0.5)\n",
    "\n",
    "torh = random.choice ([1,2])\n",
    "print('Flipping...')\n",
    "time.sleep(2)\n",
    "\n",
    "if torh == 1:\n",
    "    print('It landed on Heads!')\n",
    "if torh == 2:\n",
    "    print ('It landed on Tails!')\n",
    "\n",
    "time.sleep(0.5)\n",
    "\n",
    "if p1 == torh:\n",
    "    print('You Win!')\n",
    "else:\n",
    "    print('You Lose...')\n",
    "\n"
   ]
  }
 ],
 "metadata": {
  "kernelspec": {
   "display_name": "Python 3.10.6 64-bit",
   "language": "python",
   "name": "python3"
  },
  "language_info": {
   "codemirror_mode": {
    "name": "ipython",
    "version": 3
   },
   "file_extension": ".py",
   "mimetype": "text/x-python",
   "name": "python",
   "nbconvert_exporter": "python",
   "pygments_lexer": "ipython3",
   "version": "3.10.6"
  },
  "orig_nbformat": 4,
  "vscode": {
   "interpreter": {
    "hash": "aecb84c6e9b28468bbdb20658c528c3dc561f4bfe341e572572258a058312940"
   }
  }
 },
 "nbformat": 4,
 "nbformat_minor": 2
}
